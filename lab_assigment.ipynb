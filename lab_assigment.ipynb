{
  "nbformat": 4,
  "nbformat_minor": 0,
  "metadata": {
    "colab": {
      "name": "lab assigment",
      "provenance": [],
      "collapsed_sections": []
    },
    "kernelspec": {
      "name": "python3",
      "display_name": "Python 3"
    },
    "language_info": {
      "name": "python"
    }
  },
  "cells": [
    {
      "cell_type": "code",
      "source": [
        "#1 python program to print all odd numbers in a list?\n",
        "list1 = [10, 11, 13, 15, 16, 17]\n",
        "for num  in list1: \n",
        "  if num % 2!=0:\n",
        "    print(num)"
      ],
      "metadata": {
        "id": "N3qiiEYCda8X",
        "colab": {
          "base_uri": "https://localhost:8080/"
        },
        "outputId": "022b75e4-1fae-4a31-e675-eac4c474b31d"
      },
      "execution_count": null,
      "outputs": [
        {
          "output_type": "stream",
          "name": "stdout",
          "text": [
            "11\n",
            "13\n",
            "15\n",
            "17\n"
          ]
        }
      ]
    },
    {
      "cell_type": "code",
      "source": [
        "#2 python program to find the sum of list elements?\n",
        "b=[]\n",
        "num=int(input(\"numbers: \"))\n",
        "for n in range(num):\n",
        "  numbers=int(input(\"enter numbers: \"))\n",
        "  b.append(numbers)\n",
        "print(\"sum of numbers: \", sum(b)) "
      ],
      "metadata": {
        "colab": {
          "base_uri": "https://localhost:8080/"
        },
        "id": "cXlUKMUWcZZQ",
        "outputId": "4b132b34-5597-4c6d-b0e3-2ffea1f90836"
      },
      "execution_count": null,
      "outputs": [
        {
          "output_type": "stream",
          "name": "stdout",
          "text": [
            "numbers: 5\n",
            "enter numbers: 25\n",
            "enter numbers: 26\n",
            "enter numbers: 27\n",
            "enter numbers: 28\n",
            "enter numbers: 29\n",
            "sum of numbers:  135\n"
          ]
        }
      ]
    },
    {
      "cell_type": "code",
      "source": [
        "#3 python program to reverse a list in two ways?\n",
        "a=[2,3,4,5,6]\n",
        "a.reverse()\n",
        "print(\"reversed list is; \",a)\n",
        "print(\"reversed list is;\",a[::-1])"
      ],
      "metadata": {
        "colab": {
          "base_uri": "https://localhost:8080/"
        },
        "id": "tli9NqfMdT2E",
        "outputId": "ca650cd3-f0d3-4642-cb21-1a2255bd7811"
      },
      "execution_count": null,
      "outputs": [
        {
          "output_type": "stream",
          "name": "stdout",
          "text": [
            "reversed list is;  [6, 5, 4, 3, 2]\n",
            "reversed list is; [2, 3, 4, 5, 6]\n"
          ]
        }
      ]
    },
    {
      "cell_type": "code",
      "source": [
        "#4 python program to find the top two maximum numbers in a list?\n",
        "heights = [12, 21, 30, 101, 11, 15]\n",
        "largest_number = heights[0]\n",
        "for number in heights:\n",
        "  if number > largest_number:\n",
        "    largest_number = number\n",
        "print(largest_number)    \n"
      ],
      "metadata": {
        "colab": {
          "base_uri": "https://localhost:8080/"
        },
        "id": "kUlhOTyMdk0l",
        "outputId": "87c8af9d-9ce2-4853-e329-4b4601e4f8a5"
      },
      "execution_count": null,
      "outputs": [
        {
          "output_type": "stream",
          "name": "stdout",
          "text": [
            "101\n"
          ]
        }
      ]
    },
    {
      "cell_type": "code",
      "source": [
        "#5 write a program in python find the second highest number in an integer list?\n",
        "a=[]\n",
        "n=int(input(\"enter number of elements:\"))\n",
        "for i in range(1,n+1):\n",
        "   b=int(input(\"emter element:\"))\n",
        "   a.append(b)\n",
        "a.sort()\n",
        "print(\"second largest element is:\",a[n-2])   "
      ],
      "metadata": {
        "colab": {
          "base_uri": "https://localhost:8080/"
        },
        "id": "-5RyfB1_eKTc",
        "outputId": "23727cb5-4437-4860-8808-af9d94f414a0"
      },
      "execution_count": null,
      "outputs": [
        {
          "output_type": "stream",
          "name": "stdout",
          "text": [
            "enter number of elements:10\n",
            "emter element:20\n",
            "emter element:30\n",
            "emter element:40\n",
            "emter element:50\n",
            "emter element:60\n",
            "emter element:70\n",
            "emter element:80\n",
            "emter element:90\n",
            "emter element:100\n",
            "emter element:110\n",
            "second largest element is: 100\n"
          ]
        }
      ]
    },
    {
      "cell_type": "code",
      "source": [
        "#6 python program to sort characters in decending order?\n",
        "list1=[\"subhan\",\"areesh\", \"ansari\",\"muiz\" ]\n",
        "list1.sort()\n",
        "print(list1)"
      ],
      "metadata": {
        "colab": {
          "base_uri": "https://localhost:8080/"
        },
        "id": "w7PeUT6yeLVT",
        "outputId": "dddd3d00-156e-4f0a-9b9e-7ff65a75c4ee"
      },
      "execution_count": null,
      "outputs": [
        {
          "output_type": "stream",
          "name": "stdout",
          "text": [
            "['ansari', 'areesh', 'muiz', 'subhan']\n"
          ]
        }
      ]
    },
    {
      "cell_type": "code",
      "source": [
        "#7 python program to remove repeated characters from a string?\n",
        "name=[\"abdullah\", \"anus\",\"huzaifa\",\"lalit\",\"shabnam\",\"shabana\"]\n",
        "name.remove(\"lalit\")\n",
        "print(name)"
      ],
      "metadata": {
        "colab": {
          "base_uri": "https://localhost:8080/"
        },
        "id": "yokpaFkJevsf",
        "outputId": "bbd22b9e-6ee0-4676-bd31-2abe2a2ad327"
      },
      "execution_count": null,
      "outputs": [
        {
          "output_type": "stream",
          "name": "stdout",
          "text": [
            "['abdullah', 'anus', 'huzaifa', 'shabnam', 'shabana']\n"
          ]
        }
      ]
    },
    {
      "cell_type": "code",
      "source": [
        "#9 python program to calculate factorial?\n",
        "num=int(input(\"enter a number:\"))\n",
        "factorial= 1\n",
        "if num < 0:\n",
        "  print(\"sorry,factorial does not exist for negative numbers\")\n",
        "elif num == 0:\n",
        "  print(\"the factorial of 0 is 1\")\n",
        "else:\n",
        "  for i in range(1,num+1):\n",
        "    factorial=factorial*i\n",
        "  print(\"the factorial of\",num,\"is\",factorial)  "
      ],
      "metadata": {
        "colab": {
          "base_uri": "https://localhost:8080/"
        },
        "id": "Zj4IEV7_e0xA",
        "outputId": "b96e91a3-6f3a-4807-f102-9154cd8976b7"
      },
      "execution_count": null,
      "outputs": [
        {
          "output_type": "stream",
          "name": "stdout",
          "text": [
            "enter a number:10\n",
            "the factorial of 10 is 3628800\n"
          ]
        }
      ]
    },
    {
      "cell_type": "code",
      "source": [
        "#10 python program to merge two list?\n",
        "\"\"\"program which merge two list\"\"\"\n",
        "list1 = [\"snake\", \"joker\" , \"audi\"]\n",
        "list2 = [1, 2, 3]\n",
        "\n",
        "list3 = list1 + list2\n",
        "print(list3)\n"
      ],
      "metadata": {
        "colab": {
          "base_uri": "https://localhost:8080/"
        },
        "id": "VpRv7eX6e8I6",
        "outputId": "74f0ed53-69f2-4411-84af-8035be96b0bb"
      },
      "execution_count": null,
      "outputs": [
        {
          "output_type": "stream",
          "name": "stdout",
          "text": [
            "['snake', 'joker', 'audi', 1, 2, 3]\n"
          ]
        }
      ]
    },
    {
      "cell_type": "code",
      "source": [
        "#8 python program to check if a given character is a vowel or constant?\n",
        "charac = input(\"Enter a character: \")\n",
        "\n",
        "if(charac=='A' or charac =='a' or charac =='E' or charac =='e' or charac =='I'\n",
        " or charac =='i' or charac =='O' or charac =='o' or charac =='U' or charac =='u'):\n",
        "    print(charac, \"is a Vowel\")\n",
        "else:\n",
        "    print(charac, \"is a Consonant\")"
      ],
      "metadata": {
        "colab": {
          "base_uri": "https://localhost:8080/"
        },
        "id": "M8JyNBYUlc34",
        "outputId": "20921fba-f973-4f64-ce44-3625d6a2a407"
      },
      "execution_count": null,
      "outputs": [
        {
          "output_type": "stream",
          "name": "stdout",
          "text": [
            "Enter a character: i\n",
            "i is a Vowel\n"
          ]
        }
      ]
    },
    {
      "cell_type": "code",
      "source": [
        ""
      ],
      "metadata": {
        "id": "E7v4YZEulmdq"
      },
      "execution_count": null,
      "outputs": []
    }
  ]
}